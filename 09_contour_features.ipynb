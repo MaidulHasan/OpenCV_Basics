{
 "cells": [
  {
   "cell_type": "markdown",
   "metadata": {},
   "source": [
    "### Import Statements"
   ]
  },
  {
   "cell_type": "code",
   "execution_count": 1,
   "metadata": {},
   "outputs": [],
   "source": [
    "import matplotlib.pyplot as plt\n",
    "import numpy as np\n",
    "import cv2 as cv\n",
    "import sys\n",
    "import copy"
   ]
  },
  {
   "cell_type": "code",
   "execution_count": 2,
   "metadata": {},
   "outputs": [],
   "source": [
    "%matplotlib inline"
   ]
  },
  {
   "cell_type": "code",
   "execution_count": 3,
   "metadata": {},
   "outputs": [],
   "source": [
    "from funcs import matplotlib_imshow\n",
    "from funcs import auto_canny\n",
    "from funcs import find_contours"
   ]
  },
  {
   "cell_type": "code",
   "execution_count": 5,
   "metadata": {},
   "outputs": [],
   "source": [
    "# finding contours of simple objects in an image\n",
    "shape_img, img_used, shape_img_contours, shape_img_hierarchy = find_contours(\n",
    "    \"./imgs/simple_shapes.png\", black_obj_on_white_bg=True, mode=cv.RETR_EXTERNAL\n",
    ")"
   ]
  },
  {
   "cell_type": "markdown",
   "metadata": {},
   "source": [
    "## Contour Features ([Docs](https://docs.opencv.org/4.x/dd/d49/tutorial_py_contour_features.html))"
   ]
  },
  {
   "cell_type": "markdown",
   "metadata": {},
   "source": [
    "- ### Moment"
   ]
  },
  {
   "cell_type": "markdown",
   "metadata": {},
   "source": [
    "An image moment is a certain particular weighted average (moment) of the image pixels' intensities, or a function of such moments. It is calculated similarly to how first moment of an area would be calculated. \n",
    "\n",
    "Simple properties of the image which are found via image moments include area (or total intensity), its centroid, and information about its orientation."
   ]
  },
  {
   "cell_type": "markdown",
   "metadata": {},
   "source": [
    "> The function `cv.moments(cnt)` gives a dictionary of all moment values calculated for that particular contour."
   ]
  },
  {
   "cell_type": "markdown",
   "metadata": {},
   "source": [
    "Out of all the values this function returns, three of the most important values are returned with the following keys -- \n",
    "1. 'm00': Area (for binary images) or sum of grey level (for greytone images)\n",
    "2. 'm10': First moment of area about the x axis\n",
    "3. 'm01': First moment of area about the y axis\n",
    "\n",
    "These can be used to calculate the centroid of a contour as, (`cx= 'm10'/'m00'`, `cy= 'm01'/'m00'`)."
   ]
  },
  {
   "cell_type": "code",
   "execution_count": 6,
   "metadata": {},
   "outputs": [],
   "source": [
    "moment_of_all_contours = {\n",
    "    cnt_i: cv.moments(cnt) for cnt_i, cnt in enumerate(shape_img_contours)\n",
    "}"
   ]
  },
  {
   "cell_type": "code",
   "execution_count": 7,
   "metadata": {},
   "outputs": [
    {
     "data": {
      "text/plain": [
       "{'m00': 0.0,\n",
       " 'm10': 0.0,\n",
       " 'm01': 0.0,\n",
       " 'm20': 0.0,\n",
       " 'm11': 0.0,\n",
       " 'm02': 0.0,\n",
       " 'm30': 0.0,\n",
       " 'm21': 0.0,\n",
       " 'm12': 0.0,\n",
       " 'm03': 0.0,\n",
       " 'mu20': 0.0,\n",
       " 'mu11': 0.0,\n",
       " 'mu02': 0.0,\n",
       " 'mu30': 0.0,\n",
       " 'mu21': 0.0,\n",
       " 'mu12': 0.0,\n",
       " 'mu03': 0.0,\n",
       " 'nu20': 0.0,\n",
       " 'nu11': 0.0,\n",
       " 'nu02': 0.0,\n",
       " 'nu30': 0.0,\n",
       " 'nu21': 0.0,\n",
       " 'nu12': 0.0,\n",
       " 'nu03': 0.0}"
      ]
     },
     "execution_count": 7,
     "metadata": {},
     "output_type": "execute_result"
    }
   ],
   "source": [
    "moment_of_all_contours[0]"
   ]
  },
  {
   "cell_type": "code",
   "execution_count": 8,
   "metadata": {},
   "outputs": [
    {
     "data": {
      "text/plain": [
       "[0, 2, 3, 4, 5, 6, 7, 8, 9, 10, 16, 17, 18, 19, 21]"
      ]
     },
     "execution_count": 8,
     "metadata": {},
     "output_type": "execute_result"
    }
   ],
   "source": [
    "# As we can see, there's clearly some contours with m00=0 i.e, area=0. Let's filter them out.\n",
    "contours_with_zero_area = [\n",
    "    i\n",
    "    for i in range(len(moment_of_all_contours))\n",
    "    if moment_of_all_contours[i].get(\"m00\") == 0\n",
    "]\n",
    "contours_with_zero_area"
   ]
  },
  {
   "cell_type": "code",
   "execution_count": 9,
   "metadata": {},
   "outputs": [],
   "source": [
    "# Let's remove these items from shape_img_contours"
   ]
  },
  {
   "cell_type": "markdown",
   "metadata": {},
   "source": [
    "**`Note:`** See this article @https://www.geeksforgeeks.org/python-remove-elements-at-indices-in-list/"
   ]
  },
  {
   "cell_type": "code",
   "execution_count": 10,
   "metadata": {},
   "outputs": [],
   "source": [
    "# we will use tuple comprehension to create a new list of contours that has area > 0.\n",
    "# This way the original one won't be changed.\n",
    "contours_gt_zero_area = tuple(\n",
    "    elem\n",
    "    for i, elem in enumerate(shape_img_contours)\n",
    "    if i not in contours_with_zero_area\n",
    ")"
   ]
  },
  {
   "cell_type": "code",
   "execution_count": 11,
   "metadata": {},
   "outputs": [],
   "source": [
    "shape_img_contours = contours_gt_zero_area"
   ]
  },
  {
   "cell_type": "code",
   "execution_count": 12,
   "metadata": {},
   "outputs": [
    {
     "data": {
      "text/plain": [
       "10"
      ]
     },
     "execution_count": 12,
     "metadata": {},
     "output_type": "execute_result"
    }
   ],
   "source": [
    "len(shape_img_contours)"
   ]
  },
  {
   "cell_type": "code",
   "execution_count": 13,
   "metadata": {},
   "outputs": [
    {
     "data": {
      "text/plain": [
       "{'m00': 9.5,\n",
       " 'm10': 4.333333333333333,\n",
       " 'm01': 6079.166666666666,\n",
       " 'm20': 2.75,\n",
       " 'm11': 2773.7916666666665,\n",
       " 'm02': 3890269.25,\n",
       " 'm30': 2.0,\n",
       " 'm21': 1760.6,\n",
       " 'm12': 1775577.6666666667,\n",
       " 'm03': 2489604744.55,\n",
       " 'mu20': 0.7733918128654975,\n",
       " 'mu11': 0.8384502923981927,\n",
       " 'mu02': 135.84356725215912,\n",
       " 'mu30': 0.04006360931568698,\n",
       " 'mu21': 0.07632604904046048,\n",
       " 'mu12': -4.183312814547918,\n",
       " 'mu03': -179.69528102874756,\n",
       " 'nu20': 0.008569438369700802,\n",
       " 'nu11': 0.009290307949010444,\n",
       " 'nu02': 1.5051918809103502,\n",
       " 'nu30': 0.0001440260529378038,\n",
       " 'nu21': 0.0002743871500197179,\n",
       " 'nu12': -0.015038735729872426,\n",
       " 'nu03': -0.6459927724980649}"
      ]
     },
     "execution_count": 13,
     "metadata": {},
     "output_type": "execute_result"
    }
   ],
   "source": [
    "# now let's see the change\n",
    "shape_contours_moments = [cv.moments(cnt) for cnt in shape_img_contours]\n",
    "moment_of_valid_contour_0 = shape_contours_moments[0]\n",
    "moment_of_valid_contour_0"
   ]
  },
  {
   "cell_type": "markdown",
   "metadata": {},
   "source": [
    "- ### Centroid of a Contour"
   ]
  },
  {
   "cell_type": "code",
   "execution_count": 14,
   "metadata": {},
   "outputs": [
    {
     "name": "stdout",
     "output_type": "stream",
     "text": [
      "Centroid of the 0th Valid contour of the Shapes Image is, (0.45614035087719296, 639.9122807017543)\n"
     ]
    }
   ],
   "source": [
    "cx = moment_of_valid_contour_0[\"m10\"] / moment_of_valid_contour_0[\"m00\"]\n",
    "cy = moment_of_valid_contour_0[\"m01\"] / moment_of_valid_contour_0[\"m00\"]\n",
    "print(f\"Centroid of the 0th Valid contour of the Shapes Image is, {cx, cy}\")"
   ]
  },
  {
   "cell_type": "markdown",
   "metadata": {},
   "source": [
    "- ### Contour Area"
   ]
  },
  {
   "cell_type": "markdown",
   "metadata": {},
   "source": [
    "> The function `cv.contuorArea(cnt)` gives the Contour Area or can be found from `M['m00']`"
   ]
  },
  {
   "cell_type": "code",
   "execution_count": 15,
   "metadata": {},
   "outputs": [],
   "source": [
    "area_of_contour_0 = cv.contourArea(shape_img_contours[0])"
   ]
  },
  {
   "cell_type": "code",
   "execution_count": 16,
   "metadata": {},
   "outputs": [
    {
     "data": {
      "text/plain": [
       "9.5"
      ]
     },
     "execution_count": 16,
     "metadata": {},
     "output_type": "execute_result"
    }
   ],
   "source": [
    "area_of_contour_0"
   ]
  },
  {
   "cell_type": "markdown",
   "metadata": {},
   "source": [
    "**Controlling which contour to draw based on its area --**"
   ]
  },
  {
   "cell_type": "code",
   "execution_count": 17,
   "metadata": {},
   "outputs": [],
   "source": [
    "def get_canvas(shape, color_code=(80, 80, 80)):\n",
    "    return np.full(shape, fill_value=color_code, dtype=np.uint8)"
   ]
  },
  {
   "cell_type": "code",
   "execution_count": 18,
   "metadata": {},
   "outputs": [],
   "source": [
    "canvas = get_canvas(shape_img.shape)"
   ]
  },
  {
   "cell_type": "code",
   "execution_count": 19,
   "metadata": {},
   "outputs": [],
   "source": [
    "top_3_cnts_by_area = sorted(shape_img_contours, key=cv.contourArea, reverse=True)[:3]\n",
    "top_3_cnts_area = [cv.contourArea(cnt) for cnt in top_3_cnts_by_area]"
   ]
  },
  {
   "cell_type": "code",
   "execution_count": 20,
   "metadata": {},
   "outputs": [
    {
     "data": {
      "text/plain": [
       "[95120.5, 82151.5, 75175.5]"
      ]
     },
     "execution_count": 20,
     "metadata": {},
     "output_type": "execute_result"
    }
   ],
   "source": [
    "top_3_cnts_area"
   ]
  },
  {
   "cell_type": "code",
   "execution_count": 21,
   "metadata": {},
   "outputs": [
    {
     "data": {
      "text/plain": [
       "<matplotlib.image.AxesImage at 0x7f62b8603f10>"
      ]
     },
     "execution_count": 21,
     "metadata": {},
     "output_type": "execute_result"
    },
    {
     "data": {
      "image/png": "[encoded data removed]",
      "text/plain": [
       "<Figure size 640x480 with 1 Axes>"
      ]
     },
     "metadata": {},
     "output_type": "display_data"
    }
   ],
   "source": [
    "plt.imshow(cv.drawContours(canvas, top_3_cnts_by_area, -1, (150, 200, 0)))"
   ]
  },
  {
   "cell_type": "markdown",
   "metadata": {},
   "source": [
    "- ### Contour Perimeter"
   ]
  },
  {
   "cell_type": "markdown",
   "metadata": {},
   "source": [
    "> The function `cv.arcLength(cnt, closed)`"
   ]
  },
  {
   "cell_type": "markdown",
   "metadata": {},
   "source": [
    "Contour perimeter is also called arc length. It can be found out using cv.arcLength() function. Second argument specify whether shape is a closed contour (if passed True), or just a curve. "
   ]
  },
  {
   "cell_type": "code",
   "execution_count": 22,
   "metadata": {},
   "outputs": [
    {
     "data": {
      "text/plain": [
       "39.071067690849304"
      ]
     },
     "execution_count": 22,
     "metadata": {},
     "output_type": "execute_result"
    }
   ],
   "source": [
    "cv.arcLength(shape_img_contours[0], True)"
   ]
  },
  {
   "cell_type": "code",
   "execution_count": null,
   "metadata": {},
   "outputs": [],
   "source": []
  }
 ],
 "metadata": {
  "kernelspec": {
   "display_name": "computer_vision",
   "language": "python",
   "name": "python3"
  },
  "language_info": {
   "codemirror_mode": {
    "name": "ipython",
    "version": 3
   },
   "file_extension": ".py",
   "mimetype": "text/x-python",
   "name": "python",
   "nbconvert_exporter": "python",
   "pygments_lexer": "ipython3",
   "version": "3.11.3"
  },
  "orig_nbformat": 4
 },
 "nbformat": 4,
 "nbformat_minor": 2
}
