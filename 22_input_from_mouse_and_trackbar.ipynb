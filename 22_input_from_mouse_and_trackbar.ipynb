{
 "cells": [
  {
   "cell_type": "markdown",
   "metadata": {},
   "source": [
    "### Import Statements"
   ]
  },
  {
   "cell_type": "code",
   "execution_count": 3,
   "metadata": {},
   "outputs": [],
   "source": [
    "import matplotlib.pyplot as plt\n",
    "import numpy as np\n",
    "import cv2 as cv"
   ]
  },
  {
   "cell_type": "code",
   "execution_count": 4,
   "metadata": {},
   "outputs": [],
   "source": [
    "%matplotlib inline"
   ]
  },
  {
   "cell_type": "markdown",
   "metadata": {},
   "source": [
    "## **Input from Mouse**"
   ]
  },
  {
   "cell_type": "markdown",
   "metadata": {},
   "source": [
    "### *Mouse events* ([Documentation](https://docs.opencv.org/4.x/d0/d90/group__highgui__window__flags.html#gaab4dc057947f70058c80626c9f1c25ce))"
   ]
  },
  {
   "cell_type": "markdown",
   "metadata": {},
   "source": [
    "Mouse event can be anything related to mouse like left-button down, left-button up, left-button double-click etc."
   ]
  },
  {
   "cell_type": "code",
   "execution_count": 5,
   "metadata": {},
   "outputs": [],
   "source": [
    "# list of all the available mouse event types and flags\n",
    "\n",
    "mouse_events = [func for func in dir(cv) if func.startswith(\"EVENT\")]"
   ]
  },
  {
   "cell_type": "markdown",
   "metadata": {},
   "source": [
    "> The `cv.setMouseCallback(winname, onMouse, userdata = 0)` function is used to **call a specific function (onMouse) when any mouse event takes place on a specific window (winname)**."
   ]
  },
  {
   "cell_type": "markdown",
   "metadata": {},
   "source": [
    "This function monitors a specific window for mouse events (see the docs for the available mouse event flags and types). When a mouse event takes place it calls the callback function with the event type and the event coordinates (x,y)."
   ]
  },
  {
   "cell_type": "markdown",
   "metadata": {},
   "source": [
    "<u>Function Parameters:</u>\n",
    "- winname: Name of the window which is observed for any mouse event.\n",
    "- onMouse: Callback function for mouse events.\n",
    "- userdata: The optional parameter passed to the callback function. "
   ]
  },
  {
   "cell_type": "markdown",
   "metadata": {},
   "source": [
    "> Defining the `callback function`"
   ]
  },
  {
   "cell_type": "markdown",
   "metadata": {},
   "source": [
    "The callback function has a specific format as to what argument it takes. The function can vary widely about what it does with the inputs but the inputs are to be provided in a specific sequence and format."
   ]
  },
  {
   "cell_type": "markdown",
   "metadata": {},
   "source": [
    "The callback function takes 5 arguments. A demo of such a function is provided below,\n",
    "\n",
    "    def onMouse(event, x, y, flags, userdata):\n",
    "        # function body\n",
    "        return something\n",
    "\n",
    "<u>Function Parameters</u>\n",
    "\n",
    "- event: **one** of the cv MouseEventTypes constants.\n",
    "- x: The x-coordinate of the mouse event.\n",
    "- y: The y-coordinate of the mouse event.\n",
    "- flags: **one** of the cv MouseEventFlags constants.\n",
    "- userdata:\tThe optional parameter. "
   ]
  },
  {
   "cell_type": "markdown",
   "metadata": {},
   "source": [
    "**`Note:`** We don't need to provide any onMouse function parameter values when calling, the setMouseCallback will do that when it calls the onMouse callback function."
   ]
  },
  {
   "cell_type": "markdown",
   "metadata": {},
   "source": [
    "> So, the whole process goes as follows,"
   ]
  },
  {
   "cell_type": "markdown",
   "metadata": {},
   "source": [
    "1. First we create a callback function\n",
    "2. Next we choose which window we want to bind that function to\n",
    "3. Finally we bind the chosen window to the callback function using cv.setMouseCallback()"
   ]
  },
  {
   "cell_type": "markdown",
   "metadata": {},
   "source": [
    "##### Here we have a simple callback function that can be used to record mouse movements while the left mouse button is held down. The recording is initiated when the left mouse button is double clicked and ends when the left mouse button is released."
   ]
  },
  {
   "cell_type": "code",
   "execution_count": 24,
   "metadata": {},
   "outputs": [],
   "source": [
    "def simple_callback(event, x, y, flags, userdata):\n",
    "    # we need to use global variables otherwise everytime a mouse event occurs, the variables will be initialized\n",
    "    # a new and the last state won't be saved.\n",
    "\n",
    "    # That's why if we define \"is_left_down = False\" inside the function block the mouse movements will not be\n",
    "    # captured since in case of a mouse event where the mouse moves, the is_left_down will always be false.\n",
    "\n",
    "    # is_left_down = False\n",
    "\n",
    "    global is_left_down, mouseX_mouseY\n",
    "\n",
    "    # double clicking the left button is a preliminary requirement for the mouse movements to be stored in an array\n",
    "    if event == cv.EVENT_LBUTTONDBLCLK:\n",
    "        is_left_down = True\n",
    "        print(f\"Left button double clicked at: {(x, y)}\")\n",
    "\n",
    "    if event == cv.EVENT_LBUTTONUP:\n",
    "        is_left_down = False\n",
    "        print(f\"Left button click released at: {x, y}\")\n",
    "\n",
    "    if is_left_down is True and event == cv.EVENT_MOUSEMOVE:\n",
    "        mouseX_mouseY.append((x, y))\n",
    "\n",
    "    return mouseX_mouseY"
   ]
  },
  {
   "cell_type": "code",
   "execution_count": 25,
   "metadata": {},
   "outputs": [
    {
     "name": "stdout",
     "output_type": "stream",
     "text": [
      "Left button click released at: (165, 287)\n",
      "Left button double clicked at: (165, 287)\n",
      "Left button click released at: (320, 279)\n",
      "Left button click released at: (195, 224)\n",
      "Left button double clicked at: (195, 224)\n",
      "Left button click released at: (182, 227)\n",
      "Left button click released at: (273, 241)\n",
      "Left button double clicked at: (273, 241)\n",
      "Left button click released at: (266, 239)\n"
     ]
    }
   ],
   "source": [
    "# global variables that would be used in the callback function\n",
    "# we define them here because otherwise the variables will have values from the previous run instead of being\n",
    "# initialized a new.\n",
    "is_left_down = False\n",
    "mouseX_mouseY = []\n",
    "\n",
    "# defining the window to track and setting mouse callback\n",
    "img = np.zeros((640, 480), dtype=np.uint8)\n",
    "cv.namedWindow(\"image\")\n",
    "cv.setMouseCallback(\"image\", simple_callback)\n",
    "\n",
    "# showing the window\n",
    "while True:\n",
    "    cv.imshow(\"image\", img)\n",
    "    keyboad_input = cv.waitKey(1000)\n",
    "    if keyboad_input == ord(\"q\"):\n",
    "        break\n",
    "\n",
    "cv.destroyAllWindows()"
   ]
  },
  {
   "cell_type": "code",
   "execution_count": 26,
   "metadata": {},
   "outputs": [],
   "source": [
    "pts = np.array(mouseX_mouseY, dtype=np.int32)"
   ]
  },
  {
   "cell_type": "code",
   "execution_count": 27,
   "metadata": {},
   "outputs": [
    {
     "data": {
      "text/plain": [
       "(437, 2)"
      ]
     },
     "execution_count": 27,
     "metadata": {},
     "output_type": "execute_result"
    }
   ],
   "source": [
    "pts.shape"
   ]
  },
  {
   "cell_type": "code",
   "execution_count": 28,
   "metadata": {},
   "outputs": [],
   "source": [
    "pts = pts.reshape(pts.shape[0], 1, 2)"
   ]
  },
  {
   "cell_type": "code",
   "execution_count": 29,
   "metadata": {},
   "outputs": [],
   "source": [
    "canvas = img.copy().astype(np.uint8)"
   ]
  },
  {
   "cell_type": "code",
   "execution_count": 30,
   "metadata": {},
   "outputs": [
    {
     "data": {
      "text/plain": [
       "array([[0, 0, 0, ..., 0, 0, 0],\n",
       "       [0, 0, 0, ..., 0, 0, 0],\n",
       "       [0, 0, 0, ..., 0, 0, 0],\n",
       "       ...,\n",
       "       [0, 0, 0, ..., 0, 0, 0],\n",
       "       [0, 0, 0, ..., 0, 0, 0],\n",
       "       [0, 0, 0, ..., 0, 0, 0]], dtype=uint8)"
      ]
     },
     "execution_count": 30,
     "metadata": {},
     "output_type": "execute_result"
    }
   ],
   "source": [
    "cv.polylines(canvas, [pts], isClosed=False, color=(20), thickness=2)"
   ]
  },
  {
   "cell_type": "code",
   "execution_count": 31,
   "metadata": {},
   "outputs": [
    {
     "data": {
      "text/plain": [
       "<matplotlib.image.AxesImage at 0x7f24dc1b5210>"
      ]
     },
     "execution_count": 31,
     "metadata": {},
     "output_type": "execute_result"
    },
    {
     "data": {
      "image/png": "[encoded data removed]",
      "text/plain": [
       "<Figure size 640x480 with 1 Axes>"
      ]
     },
     "metadata": {},
     "output_type": "display_data"
    }
   ],
   "source": [
    "plt.imshow(canvas, \"gray\")"
   ]
  },
  {
   "cell_type": "markdown",
   "metadata": {},
   "source": [
    "**`Note:`** The straight lines are due to drawing with polylines. Once the left button is released the program stops collecting mouse movements. Which is all good. But the problem is when we double click at another position to start tracking again those movements are appended to the same list as before. As a result when drawing with polylines, the intermediary stops aren't recognized. To avoid this we can use the drawing function inside the callback function itself. "
   ]
  },
  {
   "cell_type": "code",
   "execution_count": null,
   "metadata": {},
   "outputs": [],
   "source": []
  },
  {
   "cell_type": "code",
   "execution_count": null,
   "metadata": {},
   "outputs": [],
   "source": []
  }
 ],
 "metadata": {
  "kernelspec": {
   "display_name": "computer_vision",
   "language": "python",
   "name": "python3"
  },
  "language_info": {
   "codemirror_mode": {
    "name": "ipython",
    "version": 3
   },
   "file_extension": ".py",
   "mimetype": "text/x-python",
   "name": "python",
   "nbconvert_exporter": "python",
   "pygments_lexer": "ipython3",
   "version": "3.11.3"
  },
  "orig_nbformat": 4
 },
 "nbformat": 4,
 "nbformat_minor": 2
}
