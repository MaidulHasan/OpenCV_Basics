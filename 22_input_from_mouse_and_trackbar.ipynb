{
 "cells": [
  {
   "cell_type": "markdown",
   "metadata": {},
   "source": [
    "### [OpenCV HighGUI documentation](https://docs.opencv.org/4.7.0/d7/dfc/group__highgui.html#ga122632e9e91b9ec06943472c55d9cda8)"
   ]
  },
  {
   "cell_type": "markdown",
   "metadata": {},
   "source": [
    "### Import Statements"
   ]
  },
  {
   "cell_type": "code",
   "execution_count": 1,
   "metadata": {},
   "outputs": [],
   "source": [
    "import matplotlib.pyplot as plt\n",
    "import numpy as np\n",
    "import cv2 as cv"
   ]
  },
  {
   "cell_type": "code",
   "execution_count": 2,
   "metadata": {},
   "outputs": [],
   "source": [
    "%matplotlib inline"
   ]
  },
  {
   "cell_type": "markdown",
   "metadata": {},
   "source": [
    "## **Input from Mouse**"
   ]
  },
  {
   "cell_type": "markdown",
   "metadata": {},
   "source": [
    "### *Mouse events* ([Documentation](https://docs.opencv.org/4.x/d0/d90/group__highgui__window__flags.html#gaab4dc057947f70058c80626c9f1c25ce))"
   ]
  },
  {
   "cell_type": "markdown",
   "metadata": {},
   "source": [
    "Mouse event can be anything related to mouse like left-button down, left-button up, left-button double-click etc."
   ]
  },
  {
   "cell_type": "code",
   "execution_count": 3,
   "metadata": {},
   "outputs": [],
   "source": [
    "# list of all the available mouse event types and flags\n",
    "\n",
    "mouse_events = [func for func in dir(cv) if func.startswith(\"EVENT\")]"
   ]
  },
  {
   "cell_type": "markdown",
   "metadata": {},
   "source": [
    "> The `cv.setMouseCallback(winname, onMouse, userdata = 0)` function is used to **call a specific function (onMouse) when any mouse event takes place on a specific window (winname)**."
   ]
  },
  {
   "cell_type": "markdown",
   "metadata": {},
   "source": [
    "This function monitors a specific window for mouse events (see the docs for the available mouse event flags and types). When a mouse event takes place it calls the callback function with the event type and the event coordinates (x,y)."
   ]
  },
  {
   "cell_type": "markdown",
   "metadata": {},
   "source": [
    "<u>Function Parameters:</u>\n",
    "- winname: Name of the window which is observed for any mouse event.\n",
    "- onMouse: Callback function for mouse events.\n",
    "- userdata: The optional parameter passed to the callback function. "
   ]
  },
  {
   "cell_type": "markdown",
   "metadata": {},
   "source": [
    "> Defining the `callback function`"
   ]
  },
  {
   "cell_type": "markdown",
   "metadata": {},
   "source": [
    "The callback function has a specific format as to what argument it takes. The function can vary widely about what it does with the inputs but the inputs are to be provided in a specific sequence and format."
   ]
  },
  {
   "cell_type": "markdown",
   "metadata": {},
   "source": [
    "The callback function takes 5 arguments. A demo of such a function is provided below,\n",
    "\n",
    "    def onMouse(event, x, y, flags, userdata):\n",
    "        # function body\n",
    "        return something\n",
    "\n",
    "<u>Function Parameters</u>\n",
    "\n",
    "- event: **one** of the cv MouseEventTypes constants.\n",
    "- x: The x-coordinate of the mouse event.\n",
    "- y: The y-coordinate of the mouse event.\n",
    "- flags: **one** of the cv MouseEventFlags constants.\n",
    "- userdata:\tOptional parameter. User data that is passed as is to the callback."
   ]
  },
  {
   "cell_type": "markdown",
   "metadata": {},
   "source": [
    "**`Note:`** We don't need to provide any of the onMouse function parameter values when calling, the setMouseCallback will do that when it calls the onMouse callback function. But if we want we can pass some value as the argument to 'userdata' (by default set to 0) to the setMouseCallback along with the winname and callback function."
   ]
  },
  {
   "cell_type": "markdown",
   "metadata": {},
   "source": [
    "> So, the whole process goes as follows,"
   ]
  },
  {
   "cell_type": "markdown",
   "metadata": {},
   "source": [
    "1. First we create a mouse event callback function.\n",
    "2. Next we choose which window we want to bind the callback function to (windows are reffered to by their names). After we've decided we bind the chosen window to the callback function using cv.setMouseCallback()."
   ]
  },
  {
   "cell_type": "markdown",
   "metadata": {},
   "source": [
    "### *Recording mouse movements: A basic example of handling mouse events*"
   ]
  },
  {
   "cell_type": "markdown",
   "metadata": {},
   "source": [
    "> Here we have a simple callback function that can be used to record mouse movements while the left mouse button is held down. The recording is initiated when the left mouse button is double clicked and ends when the left mouse button is released."
   ]
  },
  {
   "cell_type": "code",
   "execution_count": 4,
   "metadata": {},
   "outputs": [],
   "source": [
    "def simple_callback(event, x, y, flags, userdata):\n",
    "    # we need to use global variables otherwise everytime a mouse event occurs, the variables will be initialized\n",
    "    # a new and the last state won't be saved.\n",
    "\n",
    "    # That's why if we define \"is_left_down = False\" inside the function block the mouse movements will not be\n",
    "    # captured since in case of a mouse event where the mouse moves, the is_left_down will always be false.\n",
    "\n",
    "    # is_left_down = False\n",
    "\n",
    "    global is_left_down, mouseX_mouseY\n",
    "\n",
    "    # double clicking the left button is a preliminary requirement for the mouse movements to be stored in an array\n",
    "    if event == cv.EVENT_LBUTTONDBLCLK:\n",
    "        is_left_down = True\n",
    "        print(f\"Left button double clicked at: {(x, y)}\")\n",
    "\n",
    "    if event == cv.EVENT_LBUTTONUP:\n",
    "        is_left_down = False\n",
    "        print(f\"Left button click released at: {x, y}\")\n",
    "\n",
    "    if is_left_down is True and event == cv.EVENT_MOUSEMOVE:\n",
    "        mouseX_mouseY.append((x, y))\n",
    "\n",
    "    return mouseX_mouseY"
   ]
  },
  {
   "cell_type": "code",
   "execution_count": 5,
   "metadata": {},
   "outputs": [
    {
     "name": "stdout",
     "output_type": "stream",
     "text": [
      "Left button click released at: (224, 123)\n",
      "Left button double clicked at: (224, 123)\n",
      "Left button click released at: (216, 124)\n"
     ]
    }
   ],
   "source": [
    "# global variables that would be used in the callback function\n",
    "# we define them here because otherwise the variables will have values from the previous run instead of being\n",
    "# initialized a new.\n",
    "is_left_down = False\n",
    "mouseX_mouseY = []\n",
    "\n",
    "# The function namedWindow creates a window that can be used as a placeholder for images and trackbars.\n",
    "# Created windows are referred to by their names.\n",
    "# If a window with the same name already exists, the function does nothing.\n",
    "cv.namedWindow(\"image\")\n",
    "\n",
    "# the image to show on the binded window\n",
    "img = np.zeros((640, 480), dtype=np.uint8)\n",
    "\n",
    "# binding the window named 'image' to the mouse callback\n",
    "cv.setMouseCallback(\"image\", simple_callback)\n",
    "\n",
    "# showing the image on the binded window 'image'\n",
    "while True:\n",
    "    cv.imshow(\"image\", img)\n",
    "    keyboad_input = cv.waitKey(1000)\n",
    "    if keyboad_input == ord(\"q\"):\n",
    "        break\n",
    "\n",
    "cv.destroyAllWindows()"
   ]
  },
  {
   "cell_type": "code",
   "execution_count": 6,
   "metadata": {},
   "outputs": [],
   "source": [
    "pts = np.array(mouseX_mouseY, dtype=np.int32)"
   ]
  },
  {
   "cell_type": "code",
   "execution_count": 7,
   "metadata": {},
   "outputs": [],
   "source": [
    "pts = pts.reshape(pts.shape[0], 1, 2)"
   ]
  },
  {
   "cell_type": "code",
   "execution_count": 8,
   "metadata": {},
   "outputs": [],
   "source": [
    "canvas = img.copy().astype(np.uint8)"
   ]
  },
  {
   "cell_type": "code",
   "execution_count": 9,
   "metadata": {},
   "outputs": [
    {
     "data": {
      "text/plain": [
       "array([[0, 0, 0, ..., 0, 0, 0],\n",
       "       [0, 0, 0, ..., 0, 0, 0],\n",
       "       [0, 0, 0, ..., 0, 0, 0],\n",
       "       ...,\n",
       "       [0, 0, 0, ..., 0, 0, 0],\n",
       "       [0, 0, 0, ..., 0, 0, 0],\n",
       "       [0, 0, 0, ..., 0, 0, 0]], dtype=uint8)"
      ]
     },
     "execution_count": 9,
     "metadata": {},
     "output_type": "execute_result"
    }
   ],
   "source": [
    "cv.polylines(canvas, [pts], isClosed=False, color=(200), thickness=2)"
   ]
  },
  {
   "cell_type": "code",
   "execution_count": 10,
   "metadata": {},
   "outputs": [
    {
     "data": {
      "text/plain": [
       "<matplotlib.image.AxesImage at 0x7f4954da0fd0>"
      ]
     },
     "execution_count": 10,
     "metadata": {},
     "output_type": "execute_result"
    },
    {
     "data": {
      "image/png": "[encoded data removed]",
      "text/plain": [
       "<Figure size 640x480 with 1 Axes>"
      ]
     },
     "metadata": {},
     "output_type": "display_data"
    }
   ],
   "source": [
    "plt.imshow(canvas, \"gray\")"
   ]
  },
  {
   "cell_type": "markdown",
   "metadata": {},
   "source": [
    "**`Note:`** The straight lines are due to drawing with polylines. Once the left button is released the program stops collecting mouse movements. Which is all good. But the problem is when we double click at another position to start tracking again those movements are appended to the same list as before. As a result when drawing with polylines, the intermediary stops aren't recognized. To avoid this we can use the drawing function inside the callback function itself. "
   ]
  },
  {
   "cell_type": "markdown",
   "metadata": {},
   "source": [
    "### *Mouse as a paintbrush*"
   ]
  },
  {
   "cell_type": "code",
   "execution_count": 11,
   "metadata": {},
   "outputs": [],
   "source": [
    "class Queue:\n",
    "    def __init__(self):\n",
    "        self.queue = []\n",
    "\n",
    "    def enqueue(self, item):\n",
    "        return self.queue.append(item)\n",
    "\n",
    "    def dequeue(self):\n",
    "        return None if len(self.queue) == 0 else self.queue.pop(0)\n",
    "\n",
    "    def read(self):\n",
    "        return None if len(self.queue) == 0 else self.queue[0]"
   ]
  },
  {
   "cell_type": "code",
   "execution_count": 12,
   "metadata": {},
   "outputs": [],
   "source": [
    "def paint(event, x, y, flags, userdata):\n",
    "    # a global variable that stores whether the left button was double clicked, a global variable for storing\n",
    "    # whether left button is still clicked down, and another for initiating Queue which will store points\n",
    "    # over which the mouse was dragged.\n",
    "    # The \"pts\" is declared as a global variable. Otherwise it wouldn't be accessible outside of the pass\n",
    "    # where it was initiated and would've thrown a \"local variable not accessible\" error.\n",
    "    global is_left_double_clicked, is_left_down, pts\n",
    "\n",
    "    if event == cv.EVENT_LBUTTONDBLCLK:\n",
    "        # an array to capture all the points over which the mouse left button was dragged\n",
    "        # it is initialized when the left button is double clicked\n",
    "        pts = Queue()\n",
    "        print(f\"Left button double clicked at: {(x, y)}\")\n",
    "        is_left_double_clicked = True\n",
    "        is_left_down = True\n",
    "\n",
    "    if is_left_double_clicked and event == cv.EVENT_LBUTTONUP:\n",
    "        print(f\"Left button double click released at: {(x, y)}\")\n",
    "        is_left_down = False\n",
    "        is_left_double_clicked = False\n",
    "\n",
    "    if is_left_down and event == cv.EVENT_MOUSEMOVE:\n",
    "        if pts.read() is None:\n",
    "            pts.enqueue((x, y))\n",
    "\n",
    "        else:\n",
    "            previous_point = pts.dequeue()\n",
    "            latest_point = (x, y)\n",
    "            pts.enqueue(latest_point)\n",
    "            # print(pts.read())\n",
    "\n",
    "            # since the function is called on a known window we have access to the image that is displayed\n",
    "            # on that window\n",
    "            cv.line(img, previous_point, latest_point, 255, 3)"
   ]
  },
  {
   "cell_type": "code",
   "execution_count": 13,
   "metadata": {},
   "outputs": [
    {
     "name": "stdout",
     "output_type": "stream",
     "text": [
      "Left button double clicked at: (190, 61)\n",
      "Left button double click released at: (188, 64)\n",
      "Left button double clicked at: (233, 133)\n",
      "Left button double click released at: (314, 217)\n"
     ]
    }
   ],
   "source": [
    "# initialize global variables\n",
    "is_left_double_clicked = False\n",
    "is_left_down = False\n",
    "\n",
    "# create window that will be bound to the getMouseCallback\n",
    "img = np.zeros((300, 600), dtype=np.uint8)\n",
    "\n",
    "# bind getMouseCallback to a named window\n",
    "cv.namedWindow(\"Image\")\n",
    "cv.setMouseCallback(\"Image\", paint)\n",
    "\n",
    "while True:\n",
    "    cv.imshow(\"Image\", img)\n",
    "\n",
    "    keyboad_input = cv.waitKey(100)\n",
    "\n",
    "    # press \"q\" or \"Esc\" to quit\n",
    "    if keyboad_input == ord(\"q\"):\n",
    "        break\n",
    "\n",
    "cv.destroyAllWindows()"
   ]
  },
  {
   "cell_type": "code",
   "execution_count": 14,
   "metadata": {},
   "outputs": [
    {
     "data": {
      "text/plain": [
       "<matplotlib.image.AxesImage at 0x7f49407497d0>"
      ]
     },
     "execution_count": 14,
     "metadata": {},
     "output_type": "execute_result"
    },
    {
     "data": {
      "image/png": "[encoded data removed]",
      "text/plain": [
       "<Figure size 640x480 with 1 Axes>"
      ]
     },
     "metadata": {},
     "output_type": "display_data"
    }
   ],
   "source": [
    "plt.imshow(img, \"gray\")"
   ]
  },
  {
   "cell_type": "markdown",
   "metadata": {},
   "source": [
    "## **Creating Trackbars**"
   ]
  },
  {
   "cell_type": "markdown",
   "metadata": {},
   "source": [
    "> The `cv.createTrackbar(trackbarname, winname, value, count, onChange=0, userdata=0)` is used to create a trackbar and attach it to the specified window"
   ]
  },
  {
   "cell_type": "markdown",
   "metadata": {},
   "source": [
    "<u>Function Parameters:</u>\n",
    "- trackbarname: name of the created trackbar, the name with which to refer to a particular trackbar.\n",
    "- winname: the window to which the trackbar is attached.\n",
    "- value: the default value with which the trackbar is initiated. Upon creation the slider position is defined by this variable.\n",
    "- count: maximal position of the slider. The minimal position is always 0. \n",
    "- onChange:  the function to be called every time the slider changes position.\n",
    "- userdata: User data that is passed as is to the callback. It can be used to handle trackbar events without using global variables."
   ]
  },
  {
   "cell_type": "markdown",
   "metadata": {},
   "source": [
    "> Defining the `callback function`"
   ]
  },
  {
   "cell_type": "markdown",
   "metadata": {},
   "source": [
    "The callback function should be prototyped as, \n",
    "\n",
    "    def trackbar_callback(pos, userdata=0):\n",
    "        # function body: do something\n",
    "        return something\n",
    "     \n",
    "where the first parameter is the trackbar position (passed automatically to the function when trackbar position changes i.e, when the function is called) and the second parameter is the user data.\n",
    "\n",
    "- To get the trackbar position at any instance we can also use the `cv.getTrackbarPos(trackbarname, winname)` function."
   ]
  },
  {
   "cell_type": "markdown",
   "metadata": {},
   "source": [
    "### *RGB color mixer: A basic example of using Trackbars*"
   ]
  },
  {
   "cell_type": "markdown",
   "metadata": {},
   "source": [
    "> Here we have a simple callback function that can be used to show the RGB color output for a particular combination of R, G and B values. The values can be changed using 3 separate trackbars."
   ]
  },
  {
   "cell_type": "markdown",
   "metadata": {},
   "source": [
    "> Another important application of trackbar is to use it as a button or switch. OpenCV, by default, doesn't have button functionality. So you can use trackbar to get such functionality. In our program, we have created one switch in which application works only if switch is ON (default), otherwise output screen is always black."
   ]
  },
  {
   "cell_type": "code",
   "execution_count": 15,
   "metadata": {},
   "outputs": [],
   "source": [
    "# the trackbar callback function\n",
    "def trackbar_callback(pos, userdata={\"on\": True}):\n",
    "    on = userdata.get(\"on\")\n",
    "\n",
    "    if cv.getTrackbarPos(\"ON/OFF\", \"Image\") == 0:\n",
    "        on = False\n",
    "\n",
    "    # since the function is called on a known window we can access the image displayed on that window\n",
    "\n",
    "    # if off then show a black image\n",
    "    if not on:\n",
    "        img[:, :, :] = np.zeros((300, 600, 3), dtype=np.uint8)\n",
    "        return img\n",
    "\n",
    "    else:\n",
    "        r = cv.getTrackbarPos(\"R\", \"Image\")\n",
    "        g = cv.getTrackbarPos(\"G\", \"Image\")\n",
    "        b = cv.getTrackbarPos(\"B\", \"Image\")\n",
    "\n",
    "        img[:, :, :] = b, g, r\n",
    "        return img"
   ]
  },
  {
   "cell_type": "code",
   "execution_count": 16,
   "metadata": {},
   "outputs": [],
   "source": [
    "# first we create a window to which the trackbars will be attached\n",
    "cv.namedWindow(\"Image\")\n",
    "\n",
    "# default view\n",
    "img = np.zeros((300, 600, 3), dtype=np.uint8)\n",
    "\n",
    "# creating the trackbars\n",
    "cv.createTrackbar(\"R\", \"Image\", 0, 255, trackbar_callback)\n",
    "cv.createTrackbar(\"G\", \"Image\", 0, 255, trackbar_callback)\n",
    "cv.createTrackbar(\"B\", \"Image\", 0, 255, trackbar_callback)\n",
    "\n",
    "# by default the ON/OFF switch is ON\n",
    "cv.createTrackbar(\"ON/OFF\", \"Image\", 1, 1, trackbar_callback)\n",
    "\n",
    "\n",
    "# showing the output in an infinite loop\n",
    "while True:\n",
    "    cv.imshow(\"Image\", img)\n",
    "    keyboad_input = cv.waitKey(10)\n",
    "    if keyboad_input == ord(\"q\"):\n",
    "        break\n",
    "\n",
    "cv.destroyAllWindows()"
   ]
  },
  {
   "cell_type": "code",
   "execution_count": 17,
   "metadata": {},
   "outputs": [
    {
     "data": {
      "text/plain": [
       "<matplotlib.image.AxesImage at 0x7f49407d3c50>"
      ]
     },
     "execution_count": 17,
     "metadata": {},
     "output_type": "execute_result"
    },
    {
     "data": {
      "image/png": "[encoded data removed]",
      "text/plain": [
       "<Figure size 640x480 with 1 Axes>"
      ]
     },
     "metadata": {},
     "output_type": "display_data"
    }
   ],
   "source": [
    "plt.imshow(cv.cvtColor(img, cv.COLOR_BGR2RGB))"
   ]
  },
  {
   "cell_type": "code",
   "execution_count": null,
   "metadata": {},
   "outputs": [],
   "source": []
  },
  {
   "cell_type": "code",
   "execution_count": null,
   "metadata": {},
   "outputs": [],
   "source": []
  }
 ],
 "metadata": {
  "kernelspec": {
   "display_name": "computer_vision",
   "language": "python",
   "name": "python3"
  },
  "language_info": {
   "codemirror_mode": {
    "name": "ipython",
    "version": 3
   },
   "file_extension": ".py",
   "mimetype": "text/x-python",
   "name": "python",
   "nbconvert_exporter": "python",
   "pygments_lexer": "ipython3",
   "version": "3.11.3"
  },
  "orig_nbformat": 4
 },
 "nbformat": 4,
 "nbformat_minor": 2
}
