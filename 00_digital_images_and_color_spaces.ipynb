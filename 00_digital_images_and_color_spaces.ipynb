{
 "cells": [
  {
   "cell_type": "markdown",
   "metadata": {},
   "source": [
    "## **How a Computer sees an Image**"
   ]
  },
  {
   "cell_type": "markdown",
   "metadata": {},
   "source": [
    "<img src=\"./imgs/how_computer_sees_an_image.png\" height=350 width=900> "
   ]
  },
  {
   "cell_type": "markdown",
   "metadata": {},
   "source": [
    "A computer doesn't have vision as humans do. It stores an image as digital data by encoding each pixel in the image as a combination of digital representation of the basic colors in the color model (also known as color space)."
   ]
  },
  {
   "cell_type": "markdown",
   "metadata": {},
   "source": [
    "So what's a Color model or Color space? Simply said, ***A color space is a specific way of representing colors in an image.***\n",
    "\n",
    "Different color spaces have different characteristics and are suited for various image processing tasks. The most popular color model is `RGB`, although `OpenCV` uses the `BGR` color model by default. Some of the other commonly used color spaces in OpenCV include HSV, LAB, and YUV."
   ]
  },
  {
   "cell_type": "markdown",
   "metadata": {},
   "source": [
    "<img src=\"./imgs/rgb_color_model.png\" height=300 width=600> <img src='https://raw.githubusercontent.com/rajeevratan84/ModernComputerVision/main/array.png?token=ADLZD2HNEL33JAKTYRM3B5C7WMIV4' height=300 width=350>"
   ]
  },
  {
   "cell_type": "markdown",
   "metadata": {},
   "source": [
    "The `RGB` color model is also known as `24 bit color (3 channels x 8 bits per channel)`."
   ]
  },
  {
   "cell_type": "markdown",
   "metadata": {},
   "source": [
    "*There are some functions and libraries that only takes grayscale images.* `Grayscale images are single channel 8 bit images`, with `0 representing pure black and 255 representing pure white.` The values `in between` represents some `shade of gray`. "
   ]
  },
  {
   "cell_type": "markdown",
   "metadata": {},
   "source": [
    "**`Important Note:`** In **`Numpy`** the color information is stored in the columns i.e, along the x axis of the array (z, y, x). So in numpy the shape of an image would be represented as, **`(height, width, 3)`**. But, **`historically`** image dimensions have been reffered to by its height value and is represented as **`(width, height)`**. So for example a 480p image has dimensions (width, height) = (640, 480) pixels. OpenCV also uses this convention."
   ]
  },
  {
   "cell_type": "markdown",
   "metadata": {},
   "source": [
    "## **How OpenCV stores an Image**"
   ]
  },
  {
   "cell_type": "markdown",
   "metadata": {},
   "source": [
    "OpenCV uses the `BGR` color model to store images and images are stored as an `Array` (np.ndarray object). It is also often reffered to as the `Mat` object (i.e, a matrix)."
   ]
  },
  {
   "cell_type": "markdown",
   "metadata": {},
   "source": [
    "`Mat` is basically a class with two data parts: the `matrix header` (containing information such as the size of the matrix, the method used for storing, at which address is the matrix stored, and so on) and a `pointer` to the matrix containing the pixel values (taking any dimensionality depending on the method chosen for storing) . \n",
    "\n",
    "*The matrix header size is constant, however the size of the matrix itself may vary from image to image and usually is larger by orders of magnitude.*\n",
    "\n",
    "Each Mat object has its own header, however a matrix may be shared between two Mat objects by having their matrix pointers point to the same address.\n",
    "\n",
    "`The assignment operator will only copy the headers and the pointer to the large matrix, not the data itself.` So, making a modification using any of the copies (made using = operator) will affect all the other ones as well.\n",
    "\n",
    "Also, copying only a part of the data to other Mat objects, in practice just provides different access methods to the same underlying data. Nevertheless, their header parts are different. \n",
    "\n",
    "But, to copy the matrix itself too, use `.copy()` or even better, `copy.deepcopy()` functions."
   ]
  },
  {
   "cell_type": "markdown",
   "metadata": {},
   "source": [
    "## **Different Color spaces and Color space conversion** ([Source: ChatGPT](https://chat.openai.com/share/a70b7da3-e745-4e8d-b1b5-a7b789ea2080))"
   ]
  },
  {
   "cell_type": "markdown",
   "metadata": {},
   "source": [
    "Simply said, ***A color space is a specific way of representing colors in an image.***\n",
    "\n",
    "Different color spaces have different characteristics and are suited for various image processing tasks. Some of the commonly used color spaces in OpenCV include RGB, HSV, LAB, and YUV.\n"
   ]
  },
  {
   "cell_type": "markdown",
   "metadata": {},
   "source": [
    "Color space conversion is the process of converting an image from one color space to another. OpenCV provides functions to perform color space conversions, allowing you to switch between different color representations depending on the requirements of your image processing tasks."
   ]
  },
  {
   "cell_type": "markdown",
   "metadata": {},
   "source": [
    "> For **`color space conversion`**, we can use `cv.cvtColor(input_image, flag)` where, `flag` determines the type of conversion (depending on the defined color space conversion code). See [Color Space Conversion Codes](https://docs.opencv.org/3.4/d8/d01/group__imgproc__color__conversions.html#ga4e0972be5de079fed4e3a10e24ef5ef0)."
   ]
  },
  {
   "cell_type": "markdown",
   "metadata": {},
   "source": [
    "- ### The HSV/HSL color space"
   ]
  },
  {
   "cell_type": "markdown",
   "metadata": {},
   "source": [
    "The HSV colorspace has 3 components, \n",
    "- `Hue (type of color): 0 - 360`\n",
    "- `Saturation (intensity / color depth): 0 - 1`\n",
    "- `Value (brightness / lightness): 0 - 1` \n",
    "\n",
    "HSL (Hue, Saturation, Lightness).\n",
    "\n",
    "<img src=\"./imgs/hsv_color_space.jpeg\" height=300 width=600)> <img src=\"./imgs/hsv_cone.png\" height=300 width=300)>"
   ]
  },
  {
   "cell_type": "markdown",
   "metadata": {},
   "source": [
    "\n",
    "In image processing and computer vision, the HSV color model is a representation of colors using three components: H (Hue), S (Saturation), and V (Value). The HSV color model is designed to be more intuitive and easy to work with compared to the traditional RGB (Red, Green, Blue) color model.\n",
    "\n",
    "1. **Hue** (H):\n",
    "Hue represents the **type of color** or the dominant wavelength of light in the image. It is measured as an angle on the color wheel, ranging from 0 to 360 degrees. The hues 0 and 360 both correspond to red, while the other hues are distributed around the wheel to cover all the different colors of the spectrum. For example, green is around 120 degrees, and blue is around 240 degrees.\n",
    "\n",
    "2. **Saturation** (S):\n",
    "Saturation measures the **intensity or purity of the color**. A value of 0 means the color is fully desaturated, resulting in a grayscale image (no color). As the value of S increases, the color becomes more vibrant and saturated. At its maximum (S = 1), the color is fully saturated and has its purest form. You can also think of saturation as the parameter that defines the **shade** of a color. The more the saturation, the **more deep** the color will look. It can also be thought as the **strength** of a color.\n",
    "\n",
    "3. **Value** (V):\n",
    "Value represents the **brightness or lightness** of the color. A value of 0 means the color is completely black, regardless of the hue and saturation values. As the value of V increases, the color becomes brighter. At its maximum (V = 1), the color is at its full brightness.\n",
    "\n",
    "Using the HSV color model, one can manipulate the individual components to change the color appearance of an image, perform color segmentation, or extract specific color ranges for further analysis. It is a popular choice in various computer vision applications due to its simplicity and natural representation of color perception."
   ]
  },
  {
   "cell_type": "markdown",
   "metadata": {},
   "source": [
    "**`Note:` In OpenCV**, \n",
    "- the `H` value ranges between *`0-179`* instead of *0-360*.\n",
    "- Also, the `S and V (L)` values ranges between *`0-255`* instead of *0-1* due to *8 bit* representation."
   ]
  },
  {
   "cell_type": "markdown",
   "metadata": {},
   "source": [
    "##### *Here's a [table](https://en.wikipedia.org/wiki/Web_colors#HTML_color_names) that shows how different color channels of the RGB, HSV and HSL color spaces combines to create the 16 basic colors defined in the HTML 4.01 specification, ratified in 1999.*"
   ]
  },
  {
   "cell_type": "markdown",
   "metadata": {},
   "source": [
    "- ### When to use what color space?"
   ]
  },
  {
   "cell_type": "markdown",
   "metadata": {},
   "source": [
    "Various image processing techniques works better in a particular color representations than others. While there isn't a definitive \"one-size-fits-all\" rule, here are some general guidelines and use cases for popular color spaces to help you make a decision:\n",
    "\n",
    "1. RGB (Red, Green, Blue):\n",
    "   - Commonly used for general image display and visualization.\n",
    "   - Suitable for tasks related to digital photography, computer graphics, and displaying images on screens.\n",
    "   - May not be ideal for certain computer vision tasks that require color-based segmentation or color information analysis.\n",
    "\n",
    "2. HSV (Hue, Saturation, Value):\n",
    "   - Well-suited for tasks involving color segmentation and object detection based on color range.\n",
    "   - Helpful in scenarios where you want to filter specific colors or isolate regions with certain hues.\n",
    "   - Useful for tasks related to tracking objects with distinct colors in real-time applications.\n",
    "\n",
    "3. LAB (Lightness, A channel, B channel):\n",
    "   - Particularly useful for color-based image segmentation and object detection.\n",
    "   - Suitable for tasks that require uniform color perception, as the L channel (Lightness) approximates human perception of brightness.\n",
    "   - Often used in color-related computer vision algorithms.\n",
    "\n",
    "4. YUV (Luminance, Chrominance U, Chrominance V):\n",
    "   - Widely used in video compression and transmission.\n",
    "   - Can be useful for separating image luminance information from color information.\n",
    "   - Used in some video processing applications, but less commonly utilized in other computer vision tasks.\n",
    "\n",
    "While these guidelines can be helpful, it's essential to understand the nature of your specific image processing task and experiment with different color spaces to see which one yields the best results for your particular use case."
   ]
  },
  {
   "cell_type": "markdown",
   "metadata": {},
   "source": []
  }
 ],
 "metadata": {
  "language_info": {
   "name": "python"
  },
  "orig_nbformat": 4
 },
 "nbformat": 4,
 "nbformat_minor": 2
}
