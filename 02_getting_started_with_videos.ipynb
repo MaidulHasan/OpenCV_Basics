{
 "cells": [
  {
   "attachments": {},
   "cell_type": "markdown",
   "metadata": {},
   "source": [
    "### Import Statements"
   ]
  },
  {
   "cell_type": "code",
   "execution_count": 2,
   "metadata": {},
   "outputs": [],
   "source": [
    "import matplotlib.pyplot as plt\n",
    "import numpy as np\n",
    "import cv2 as cv\n",
    "import time"
   ]
  },
  {
   "cell_type": "code",
   "execution_count": 3,
   "metadata": {},
   "outputs": [],
   "source": [
    "%matplotlib inline"
   ]
  },
  {
   "attachments": {},
   "cell_type": "markdown",
   "metadata": {},
   "source": [
    "## Getting Started with Videos ([Docs](https://docs.opencv.org/4.7.0/dd/d43/tutorial_py_video_display.html))"
   ]
  },
  {
   "attachments": {},
   "cell_type": "markdown",
   "metadata": {},
   "source": [
    "- ### `VideoCapture()`: Capture video from camera or, Play video from file"
   ]
  },
  {
   "attachments": {},
   "cell_type": "markdown",
   "metadata": {},
   "source": [
    "To capture a video, we first need to create a VideoCapture object. Its argument can be either the device index (to specify which camera to use) or the name of a video file."
   ]
  },
  {
   "cell_type": "code",
   "execution_count": 6,
   "metadata": {},
   "outputs": [],
   "source": [
    "# creating a VideoCapture Object to capture output of the default camera (i.e, idx=0)\n",
    "cap = cv.VideoCapture(0)\n",
    "\n",
    "# sometimes, 'cap' may not have initialized the capture. in that case we can initialize it using 'cap.open()'\n",
    "if not cap.isOpened():\n",
    "    cap.open()\n",
    "\n",
    "# to capture frame by frame we will use a while loop\n",
    "while True:\n",
    "    # read the capture frame by frame\n",
    "    ret, frame = cap.read()\n",
    "\n",
    "    # if frame is read correctly then 'ret' will be true\n",
    "    # we can use this to determine when strem stops\n",
    "    if not ret:\n",
    "        print(\"Can not read any frame. Stream may have ended. Exiting.....\")\n",
    "        break\n",
    "\n",
    "    # now showing the frame\n",
    "    cv.imshow(\"Device 0 capture stream\", frame)\n",
    "\n",
    "    # if 'q' is pressed then end capture\n",
    "    if cv.waitKey(1) == ord(\"q\"):\n",
    "        break\n",
    "\n",
    "# after everything is done, release capture and destroy all windows\n",
    "cap.release()\n",
    "cv.destroyAllWindows()"
   ]
  },
  {
   "attachments": {},
   "cell_type": "markdown",
   "metadata": {},
   "source": [
    "> `cap.get()` and `cap.set()` method of a `VideoCapture()` Object"
   ]
  },
  {
   "attachments": {},
   "cell_type": "markdown",
   "metadata": {},
   "source": [
    "We can access some of the `features of the video capture` using **cap.get(propId)** method where **propId is a number from 0 to 18**. Each number denotes a property of the video (if it is applicable to that video). A whole lot of other flags can be fed to the cap.get() method. See [here](https://docs.opencv.org/4.7.0/d4/d15/group__videoio__flags__base.html#gaeb8dd9c89c10a5c63c139bf7c4f5704d) for all the `video capture properties flags`.\n",
    "\n",
    "`Some of these values can also be modified` using **cap.set(propId, value)**. Value is the new value you want."
   ]
  },
  {
   "cell_type": "code",
   "execution_count": 20,
   "metadata": {},
   "outputs": [],
   "source": [
    "# initialize video capture\n",
    "cap = cv.VideoCapture(0)\n",
    "\n",
    "# For example, we can check the frame width and height by,\n",
    "frame_height = cap.get(cv.CAP_PROP_FRAME_HEIGHT)\n",
    "frame_width = cap.get(cv.CAP_PROP_FRAME_WIDTH)\n",
    "\n",
    "# some other properties\n",
    "fps = cap.get(cv.CAP_PROP_FPS)\n",
    "\n",
    "\n",
    "# releasing the capture\n",
    "cap.release()"
   ]
  },
  {
   "cell_type": "code",
   "execution_count": 22,
   "metadata": {},
   "outputs": [
    {
     "data": {
      "text/plain": [
       "(640.0, 480.0, 30.0)"
      ]
     },
     "execution_count": 22,
     "metadata": {},
     "output_type": "execute_result"
    }
   ],
   "source": [
    "frame_width, frame_height, fps"
   ]
  },
  {
   "attachments": {},
   "cell_type": "markdown",
   "metadata": {},
   "source": [
    "By default, OpenCv video capture gives us 640x480 frames i.e, 480p video. But if we wanted to modify it to say, 320x240 i.e, 240p then we can do the following --"
   ]
  },
  {
   "cell_type": "code",
   "execution_count": 25,
   "metadata": {},
   "outputs": [],
   "source": [
    "# initialize video capture\n",
    "cap = cv.VideoCapture(0)\n",
    "\n",
    "# set capture to 240p\n",
    "cap.set(cv.CAP_PROP_FRAME_WIDTH, 320)\n",
    "cap.set(cv.CAP_PROP_FRAME_HEIGHT, 240)\n",
    "\n",
    "# check the frame width and height\n",
    "frame_height = cap.get(cv.CAP_PROP_FRAME_HEIGHT)\n",
    "frame_width = cap.get(cv.CAP_PROP_FRAME_WIDTH)\n",
    "\n",
    "# some other properties\n",
    "fps = cap.get(cv.CAP_PROP_FPS)\n",
    "\n",
    "\n",
    "# releasing the capture\n",
    "cap.release()"
   ]
  },
  {
   "cell_type": "code",
   "execution_count": 26,
   "metadata": {},
   "outputs": [
    {
     "data": {
      "text/plain": [
       "(320.0, 240.0, 30.0)"
      ]
     },
     "execution_count": 26,
     "metadata": {},
     "output_type": "execute_result"
    }
   ],
   "source": [
    "frame_width, frame_height, fps"
   ]
  },
  {
   "attachments": {},
   "cell_type": "markdown",
   "metadata": {},
   "source": [
    "- ### `VideoWriter()`: Saving a Video"
   ]
  },
  {
   "attachments": {},
   "cell_type": "markdown",
   "metadata": {},
   "source": [
    "To save a video we need to create a `VideoWriter()` Object. We need to pass mainly 4 arguments to the `cv.VideoWriter()` function.\n",
    "- output filename (e.g. output.avi)\n",
    "- specific codec type (FourCC code) e.g. **cv.VideoWriter_fourcc(*'XVID')**\n",
    "- fps information\n",
    "- frame size as a tuple (width, height)\n",
    "\n",
    "After that, we can use, `out.write(frame)` to write a video file frame by frame."
   ]
  },
  {
   "attachments": {},
   "cell_type": "markdown",
   "metadata": {},
   "source": [
    "**Note:** when saving video file from webcam we should first flip the image about the y axis i.e, around the x axis."
   ]
  },
  {
   "cell_type": "code",
   "execution_count": 30,
   "metadata": {},
   "outputs": [],
   "source": [
    "# initialize video capture\n",
    "cap = cv.VideoCapture(0)\n",
    "\n",
    "# check if camera opened\n",
    "if not cap.isOpened():\n",
    "    cap.open()\n",
    "\n",
    "# Define the codec and create VideoWriter object\n",
    "fourcc = cv.VideoWriter_fourcc(*'XVID')\n",
    "out = cv.VideoWriter('output.avi', fourcc, 20.0, (640,  480))\n",
    "\n",
    "# read frame by frame\n",
    "while True:\n",
    "    ret, frame = cap.read()\n",
    "\n",
    "    if not ret:\n",
    "        print(\"Exiting....\")\n",
    "        break\n",
    "\n",
    "    # now flipping the frame about y axis\n",
    "    frame = cv.flip(frame, 1)\n",
    "\n",
    "    # now showing the frame\n",
    "    cv.imshow(\"Device 0 capture stream\", frame)\n",
    "\n",
    "    # now saving the frame\n",
    "    out.write(frame)\n",
    "\n",
    "    # if 'q' is pressed then end capture\n",
    "    if cv.waitKey(1) == ord(\"q\"):\n",
    "        break\n",
    "\n",
    "# after everything is done, release capture, writer and destroy all windows\n",
    "cap.release()\n",
    "out.release()\n",
    "cv.destroyAllWindows()"
   ]
  },
  {
   "cell_type": "code",
   "execution_count": null,
   "metadata": {},
   "outputs": [],
   "source": []
  },
  {
   "cell_type": "code",
   "execution_count": null,
   "metadata": {},
   "outputs": [],
   "source": []
  }
 ],
 "metadata": {
  "kernelspec": {
   "display_name": "computer_vision",
   "language": "python",
   "name": "python3"
  },
  "language_info": {
   "codemirror_mode": {
    "name": "ipython",
    "version": 3
   },
   "file_extension": ".py",
   "mimetype": "text/x-python",
   "name": "python",
   "nbconvert_exporter": "python",
   "pygments_lexer": "ipython3",
   "version": "3.11.3"
  },
  "orig_nbformat": 4
 },
 "nbformat": 4,
 "nbformat_minor": 2
}
