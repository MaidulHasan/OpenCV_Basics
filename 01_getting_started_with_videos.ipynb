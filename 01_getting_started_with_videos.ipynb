{
 "cells": [
  {
   "attachments": {},
   "cell_type": "markdown",
   "metadata": {},
   "source": [
    "### Import Statements"
   ]
  },
  {
   "cell_type": "code",
   "execution_count": 2,
   "metadata": {},
   "outputs": [],
   "source": [
    "import matplotlib.pyplot as plt\n",
    "import numpy as np\n",
    "import cv2 as cv\n",
    "import time"
   ]
  },
  {
   "cell_type": "code",
   "execution_count": 3,
   "metadata": {},
   "outputs": [],
   "source": [
    "%matplotlib inline"
   ]
  },
  {
   "attachments": {},
   "cell_type": "markdown",
   "metadata": {},
   "source": [
    "## Getting Started with Videos ([Docs](https://docs.opencv.org/4.7.0/dd/d43/tutorial_py_video_display.html))"
   ]
  },
  {
   "attachments": {},
   "cell_type": "markdown",
   "metadata": {},
   "source": [
    "- ### `VideoCapture()`: Capture video from camera or, Play video from file"
   ]
  },
  {
   "attachments": {},
   "cell_type": "markdown",
   "metadata": {},
   "source": [
    "To capture a video, we first need to create a VideoCapture object. Its argument can be either the device index (to specify which camera to use) or the name of a video file."
   ]
  },
  {
   "cell_type": "code",
   "execution_count": 6,
   "metadata": {},
   "outputs": [],
   "source": [
    "# creating a VideoCapture Object to capture output of the default camera (i.e, idx=0)\n",
    "cap = cv.VideoCapture(0)\n",
    "\n",
    "# sometimes, 'cap' may not have initialized the capture. in that case we can initialize it using 'cap.open()'\n",
    "if not cap.isOpened():\n",
    "    cap.open()\n",
    "\n",
    "# to capture frame by frame we will use a while loop\n",
    "while True:\n",
    "    # read the capture frame by frame\n",
    "    ret, frame = cap.read()\n",
    "\n",
    "    # if frame is read correctly then 'ret' will be true\n",
    "    # we can use this to determine when strem stops\n",
    "    if not ret:\n",
    "        print(\"Can not read any frame. Stream may have ended. Exiting.....\")\n",
    "        break\n",
    "\n",
    "    # now showing the frame\n",
    "    cv.imshow(\"Device 0 capture stream\", frame)\n",
    "\n",
    "    # if 'q' is pressed then end capture\n",
    "    if cv.waitKey(1) == ord(\"q\"):\n",
    "        break\n",
    "\n",
    "# after everything is done, release capture and destroy all windows\n",
    "cap.release()\n",
    "cv.destroyAllWindows()"
   ]
  },
  {
   "attachments": {},
   "cell_type": "markdown",
   "metadata": {},
   "source": [
    "> `cap.get()` and `cap.set()` method of a `VideoCapture()` Object"
   ]
  },
  {
   "attachments": {},
   "cell_type": "markdown",
   "metadata": {},
   "source": [
    "We can access some of the `features of the video capture` using **cap.get(propId)** method where **propId is a number from 0 to 18**. Each number denotes a property of the video (if it is applicable to that video). A whole lot of other flags can be fed to the cap.get() method. See [here](https://docs.opencv.org/4.7.0/d4/d15/group__videoio__flags__base.html#gaeb8dd9c89c10a5c63c139bf7c4f5704d) for all the `video capture properties flags`.\n",
    "\n",
    "`Some of these values can also be modified` using **cap.set(propId, value)**. Value is the new value you want."
   ]
  },
  {
   "cell_type": "code",
   "execution_count": 20,
   "metadata": {},
   "outputs": [],
   "source": [
    "# initialize video capture\n",
    "cap = cv.VideoCapture(0)\n",
    "\n",
    "# For example, we can check the frame width and height by,\n",
    "frame_height = cap.get(cv.CAP_PROP_FRAME_HEIGHT)\n",
    "frame_width = cap.get(cv.CAP_PROP_FRAME_WIDTH)\n",
    "\n",
    "# some other properties\n",
    "fps = cap.get(cv.CAP_PROP_FPS)\n",
    "\n",
    "\n",
    "# releasing the capture\n",
    "cap.release()"
   ]
  },
  {
   "cell_type": "code",
   "execution_count": 22,
   "metadata": {},
   "outputs": [
    {
     "data": {
      "text/plain": [
       "(640.0, 480.0, 30.0)"
      ]
     },
     "execution_count": 22,
     "metadata": {},
     "output_type": "execute_result"
    }
   ],
   "source": [
    "frame_width, frame_height, fps"
   ]
  },
  {
   "attachments": {},
   "cell_type": "markdown",
   "metadata": {},
   "source": [
    "By default, OpenCv video capture gives us 640x480 frames i.e, 480p video. But if we wanted to modify it to say, 320x240 i.e, 240p then we can do the following --"
   ]
  },
  {
   "cell_type": "code",
   "execution_count": 25,
   "metadata": {},
   "outputs": [],
   "source": [
    "# initialize video capture\n",
    "cap = cv.VideoCapture(0)\n",
    "\n",
    "# set capture to 240p\n",
    "cap.set(cv.CAP_PROP_FRAME_WIDTH, 320)\n",
    "cap.set(cv.CAP_PROP_FRAME_HEIGHT, 240)\n",
    "\n",
    "# check the frame width and height\n",
    "frame_height = cap.get(cv.CAP_PROP_FRAME_HEIGHT)\n",
    "frame_width = cap.get(cv.CAP_PROP_FRAME_WIDTH)\n",
    "\n",
    "# some other properties\n",
    "fps = cap.get(cv.CAP_PROP_FPS)\n",
    "\n",
    "\n",
    "# releasing the capture\n",
    "cap.release()"
   ]
  },
  {
   "cell_type": "code",
   "execution_count": 26,
   "metadata": {},
   "outputs": [
    {
     "data": {
      "text/plain": [
       "(320.0, 240.0, 30.0)"
      ]
     },
     "execution_count": 26,
     "metadata": {},
     "output_type": "execute_result"
    }
   ],
   "source": [
    "frame_width, frame_height, fps"
   ]
  },
  {
   "cell_type": "code",
   "execution_count": null,
   "metadata": {},
   "outputs": [],
   "source": []
  }
 ],
 "metadata": {
  "kernelspec": {
   "display_name": "computer_vision",
   "language": "python",
   "name": "python3"
  },
  "language_info": {
   "codemirror_mode": {
    "name": "ipython",
    "version": 3
   },
   "file_extension": ".py",
   "mimetype": "text/x-python",
   "name": "python",
   "nbconvert_exporter": "python",
   "pygments_lexer": "ipython3",
   "version": "3.11.3"
  },
  "orig_nbformat": 4
 },
 "nbformat": 4,
 "nbformat_minor": 2
}
